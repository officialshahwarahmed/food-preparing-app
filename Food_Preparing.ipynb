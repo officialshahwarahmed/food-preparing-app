{
 "cells": [
  {
   "cell_type": "code",
   "execution_count": null,
   "id": "d589ce3e-9312-48d9-a99a-8aff821cf67a",
   "metadata": {},
   "outputs": [
    {
     "name": "stdout",
     "output_type": "stream",
     "text": [
      "\n",
      "🍽️ Food Categories:\n",
      "1. Breakfast\n",
      "2. Lunch\n",
      "3. Dinner\n",
      "4. Snacks & Appetizers\n",
      "5. Desserts\n",
      "6. Drinks\n"
     ]
    },
    {
     "name": "stdin",
     "output_type": "stream",
     "text": [
      "\n",
      "Enter the number of the category you want to order from:  3\n"
     ]
    },
    {
     "name": "stdout",
     "output_type": "stream",
     "text": [
      "\n",
      "🍛 Dinner Menu:\n",
      "1. Steak with Mashed Potatoes\n",
      "2. Baked Salmon\n",
      "3. Tofu Stir-fry\n",
      "4. Butter Chicken with Naan\n",
      "5. Spaghetti Bolognese\n"
     ]
    },
    {
     "name": "stdin",
     "output_type": "stream",
     "text": [
      "\n",
      "Enter the number of the item you want to order:  4\n",
      "\n",
      "Do you want to add more items? (yes/no):  yes\n"
     ]
    },
    {
     "name": "stdout",
     "output_type": "stream",
     "text": [
      "\n",
      "🍽️ Food Categories:\n",
      "1. Breakfast\n",
      "2. Lunch\n",
      "3. Dinner\n",
      "4. Snacks & Appetizers\n",
      "5. Desserts\n",
      "6. Drinks\n"
     ]
    },
    {
     "name": "stdin",
     "output_type": "stream",
     "text": [
      "\n",
      "Enter the number of the category you want to order from:  6\n"
     ]
    },
    {
     "name": "stdout",
     "output_type": "stream",
     "text": [
      "\n",
      "🍛 Drinks Menu:\n",
      "1. Coffee\n",
      "2. Fresh Juice\n",
      "3. Milkshake\n",
      "4. Lemonade\n",
      "5. Herbal Tea\n"
     ]
    }
   ],
   "source": [
    "# Food Preparing App Menu\n",
    "menu = {\n",
    "    \"Breakfast\": [\"Pancakes\", \"Omelette\", \"Smoothie Bowl\", \"Avocado Toast\", \"French Toast\"],\n",
    "    \"Lunch\": [\"Grilled Chicken Salad\", \"Pasta Alfredo\", \"Veggie Wrap\", \"Sushi Rolls\", \"Lentil Soup\"],\n",
    "    \"Dinner\": [\"Steak with Mashed Potatoes\", \"Baked Salmon\", \"Tofu Stir-fry\", \"Butter Chicken with Naan\", \"Spaghetti Bolognese\"],\n",
    "    \"Snacks & Appetizers\": [\"Nachos with Salsa\", \"Cheese Platter\", \"Stuffed Mushrooms\", \"Popcorn\", \"Hummus with Pita Bread\"],\n",
    "    \"Desserts\": [\"Chocolate Cake\", \"Ice Cream Sundae\", \"Brownies\", \"Fruit Salad\", \"Cheesecake\"],\n",
    "    \"Drinks\": [\"Coffee\", \"Fresh Juice\", \"Milkshake\", \"Lemonade\", \"Herbal Tea\"]\n",
    "}\n",
    "\n",
    "# Function to display categories\n",
    "def display_categories():\n",
    "    print(\"\\n🍽️ Food Categories:\")\n",
    "    for idx, category in enumerate(menu.keys(), 1):\n",
    "        print(f\"{idx}. {category}\")\n",
    "\n",
    "# Function to take an order\n",
    "def place_order():\n",
    "    order = []  # List to store selected items\n",
    "\n",
    "    # Step 1: Choose a category\n",
    "    while True:\n",
    "        display_categories()\n",
    "        try:\n",
    "            category_choice = int(input(\"\\nEnter the number of the category you want to order from: \"))\n",
    "            category_list = list(menu.keys())\n",
    "            if 1 <= category_choice <= len(category_list):\n",
    "                selected_category = category_list[category_choice - 1]\n",
    "                break\n",
    "            else:\n",
    "                print(\"❌ Invalid choice. Please enter a valid number.\")\n",
    "        except ValueError:\n",
    "            print(\"❌ Please enter a valid number.\")\n",
    "\n",
    "    # Step 2: Choose an item from the selected category\n",
    "    while True:\n",
    "        print(f\"\\n🍛 {selected_category} Menu:\")\n",
    "        for idx, item in enumerate(menu[selected_category], 1):\n",
    "            print(f\"{idx}. {item}\")\n",
    "\n",
    "        try:\n",
    "            item_choice = int(input(\"\\nEnter the number of the item you want to order: \"))\n",
    "            if 1 <= item_choice <= len(menu[selected_category]):\n",
    "                selected_item = menu[selected_category][item_choice - 1]\n",
    "                order.append(selected_item)\n",
    "                break\n",
    "            else:\n",
    "                print(\"❌ Invalid choice. Please enter a valid number.\")\n",
    "        except ValueError:\n",
    "            print(\"❌ Please enter a valid number.\")\n",
    "\n",
    "    # Step 3: Confirm order or add more items\n",
    "    while True:\n",
    "        more = input(\"\\nDo you want to add more items? (yes/no): \").strip().lower()\n",
    "        if more == \"yes\":\n",
    "            place_order()  # Recursively call function to add more items\n",
    "            return\n",
    "        elif more == \"no\":\n",
    "            break\n",
    "        else:\n",
    "            print(\"❌ Please enter 'yes' or 'no'.\")\n",
    "\n",
    "    # Final Order Summary\n",
    "    print(\"\\n✅ Your Order Summary:\")\n",
    "    for idx, item in enumerate(order, 1):\n",
    "        print(f\"{idx}. {item}\")\n",
    "    print(\"\\n🎉 Thank you for your order! Preparing your food...\")\n",
    "\n",
    "# Start ordering\n",
    "place_order()"
   ]
  },
  {
   "cell_type": "code",
   "execution_count": null,
   "id": "29139006-f32e-44ee-9597-688264ca9b2f",
   "metadata": {},
   "outputs": [],
   "source": []
  }
 ],
 "metadata": {
  "kernelspec": {
   "display_name": "Python 3 (ipykernel)",
   "language": "python",
   "name": "python3"
  },
  "language_info": {
   "codemirror_mode": {
    "name": "ipython",
    "version": 3
   },
   "file_extension": ".py",
   "mimetype": "text/x-python",
   "name": "python",
   "nbconvert_exporter": "python",
   "pygments_lexer": "ipython3",
   "version": "3.13.1"
  }
 },
 "nbformat": 4,
 "nbformat_minor": 5
}
